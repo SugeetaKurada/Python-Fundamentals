{
 "cells": [
  {
   "cell_type": "markdown",
   "id": "2c520c39",
   "metadata": {},
   "source": [
    "There are different types of statements in the python they are\n",
    "\n",
    "Simple statements\n",
    "Multi-line statements\n",
    "Multiple statements in a single line\n",
    "Selection statements\n",
    "Iterative statements\n",
    "Jump statements"
   ]
  },
  {
   "cell_type": "markdown",
   "id": "d2f7ef10",
   "metadata": {},
   "source": [
    "## SIMPLE ASSIGNMENT STATEMENT"
   ]
  },
  {
   "cell_type": "code",
   "execution_count": 1,
   "id": "9a981876",
   "metadata": {},
   "outputs": [
    {
     "name": "stdout",
     "output_type": "stream",
     "text": [
      "10\n",
      "20\n"
     ]
    },
    {
     "data": {
      "text/plain": [
       "200"
      ]
     },
     "execution_count": 1,
     "metadata": {},
     "output_type": "execute_result"
    }
   ],
   "source": [
    "# assignment statement\n",
    ">>> a = 10\n",
    ">>> b = 20\n",
    "\n",
    "\n",
    "# print statement\n",
    "print(a)\n",
    "print(b)\n",
    "\n",
    "# Here we are multiplying variable a and b. This is called python expression\n",
    ">>> product = a * b\n",
    ">>> product\n",
    "200"
   ]
  },
  {
   "cell_type": "markdown",
   "id": "401aaa24",
   "metadata": {},
   "source": [
    "## MULTILINE STATEMENTS"
   ]
  },
  {
   "cell_type": "code",
   "execution_count": 2,
   "id": "64865d80",
   "metadata": {},
   "outputs": [
    {
     "data": {
      "text/plain": [
       "200"
      ]
     },
     "execution_count": 2,
     "metadata": {},
     "output_type": "execute_result"
    }
   ],
   "source": [
    ">>> product = a \\\n",
    "          * b\n",
    ">>> product\n",
    "200"
   ]
  },
  {
   "cell_type": "code",
   "execution_count": 3,
   "id": "e0a80021",
   "metadata": {},
   "outputs": [],
   "source": [
    ">>> sumof10 = 1 + 2 + 3 \\\n",
    "           + 4 + 5 + 6 \\\n",
    "           + 7 + 8 + 9 \\\n",
    "           +10"
   ]
  },
  {
   "cell_type": "markdown",
   "id": "a0b3c929",
   "metadata": {},
   "source": [
    "## IMPLICIT LINE CONTINUATION"
   ]
  },
  {
   "cell_type": "code",
   "execution_count": 4,
   "id": "213eaec9",
   "metadata": {},
   "outputs": [],
   "source": [
    ">>> sumof10 = ( 1 + 2 + 3\n",
    "+ 4 + 5 + 6\n",
    "+ 7 + 8 + 9\n",
    "+ 10 )"
   ]
  },
  {
   "cell_type": "code",
   "execution_count": 5,
   "id": "49e68b28",
   "metadata": {},
   "outputs": [
    {
     "data": {
      "text/plain": [
       "[10, 20, 30, 40, 50, 60, 70, 80, 90, 100]"
      ]
     },
     "execution_count": 5,
     "metadata": {},
     "output_type": "execute_result"
    }
   ],
   "source": [
    ">>> a = [ 10, 20, 30, 40,\n",
    " 50, 60, 70, 80,\n",
    " 90, 100 ]\n",
    ">>> a"
   ]
  },
  {
   "cell_type": "markdown",
   "id": "c981917c",
   "metadata": {},
   "source": [
    "## MULTIPLE STATEMENTS IN SINGLE LINE"
   ]
  },
  {
   "cell_type": "code",
   "execution_count": 6,
   "id": "869b9690",
   "metadata": {},
   "outputs": [
    {
     "name": "stdout",
     "output_type": "stream",
     "text": [
      "200\n"
     ]
    }
   ],
   "source": [
    ">>> a = 10; b = 20; c =30; d = a * b; print(d) # USE \";\""
   ]
  },
  {
   "cell_type": "markdown",
   "id": "9339ca58",
   "metadata": {},
   "source": [
    "## SELECTION STATEMENTS"
   ]
  },
  {
   "cell_type": "markdown",
   "id": "aff42801",
   "metadata": {},
   "source": [
    "if\n",
    "if-else\n",
    "if-elif-else"
   ]
  },
  {
   "cell_type": "markdown",
   "id": "df019e1d",
   "metadata": {},
   "source": [
    "If"
   ]
  },
  {
   "cell_type": "markdown",
   "id": "c1f7bc53",
   "metadata": {},
   "source": [
    "#if <condition>:\n",
    "    <statement>\n",
    "    <statement>\n",
    "    <statement>"
   ]
  },
  {
   "cell_type": "code",
   "execution_count": 9,
   "id": "d9842a1a",
   "metadata": {},
   "outputs": [
    {
     "name": "stdout",
     "output_type": "stream",
     "text": [
      "x is smaller than five\n"
     ]
    }
   ],
   "source": [
    "x = 4\n",
    "if x < 5:\n",
    "    print(\"x is smaller than five\")"
   ]
  },
  {
   "cell_type": "code",
   "execution_count": null,
   "id": "24bf86d0",
   "metadata": {},
   "outputs": [],
   "source": [
    "x = 3\n",
    "\n",
    "if x < 10:\n",
    "     print('x below ten')\n",
    "\n",
    "if x > 1 and x < 4:\n",
    "    print('x is in range')"
   ]
  },
  {
   "cell_type": "markdown",
   "id": "7ec14660",
   "metadata": {},
   "source": [
    "If-Else"
   ]
  },
  {
   "cell_type": "markdown",
   "id": "5c4f2d09",
   "metadata": {},
   "source": [
    "= is an assignment operator\n",
    "== is an equality operator"
   ]
  },
  {
   "cell_type": "code",
   "execution_count": 11,
   "id": "ac33de37",
   "metadata": {},
   "outputs": [
    {
     "name": "stdout",
     "output_type": "stream",
     "text": [
      "Odd Number\n"
     ]
    }
   ],
   "source": [
    "n = 1\n",
    "if n % 2 == 0:\n",
    "    print(\"Even Number\")\n",
    "else:\n",
    "    print(\"Odd Number\")"
   ]
  },
  {
   "cell_type": "markdown",
   "id": "f49c18b8",
   "metadata": {},
   "source": [
    "Elif"
   ]
  },
  {
   "cell_type": "code",
   "execution_count": 15,
   "id": "f57edbb8",
   "metadata": {},
   "outputs": [
    {
     "name": "stdout",
     "output_type": "stream",
     "text": [
      "three\n"
     ]
    }
   ],
   "source": [
    "x = 3\n",
    "\n",
    "if x == 2:\n",
    "    print('two')\n",
    "    \n",
    "elif x == 3:\n",
    "    print('three')\n",
    "    \n",
    "elif x == 4:\n",
    "    print('four')\n",
    "    \n",
    "else:\n",
    "    print('something else')"
   ]
  },
  {
   "cell_type": "markdown",
   "id": "5d99cf51",
   "metadata": {},
   "source": [
    "## ITERATIVE STATEMENTS"
   ]
  },
  {
   "cell_type": "code",
   "execution_count": null,
   "id": "fc03dc0c",
   "metadata": {},
   "outputs": [],
   "source": [
    "for loop\n",
    "while loop"
   ]
  },
  {
   "cell_type": "markdown",
   "id": "6795e901",
   "metadata": {},
   "source": [
    "FOR LOOP"
   ]
  },
  {
   "cell_type": "code",
   "execution_count": 16,
   "id": "ba7b06f1",
   "metadata": {},
   "outputs": [
    {
     "name": "stdout",
     "output_type": "stream",
     "text": [
      "6\n"
     ]
    }
   ],
   "source": [
    "n = 0\n",
    "for i in range(1, 4):\n",
    "    n = n + i\n",
    "    \n",
    "print(n)"
   ]
  },
  {
   "cell_type": "markdown",
   "id": "86b7933c",
   "metadata": {},
   "source": [
    "WHILE LOOP"
   ]
  },
  {
   "cell_type": "code",
   "execution_count": 17,
   "id": "19bc3c44",
   "metadata": {},
   "outputs": [
    {
     "name": "stdout",
     "output_type": "stream",
     "text": [
      "1\n",
      "2\n",
      "3\n",
      "4\n",
      "5\n"
     ]
    }
   ],
   "source": [
    "i = 1\n",
    "while i < 6:\n",
    "  print(i)\n",
    "  i += 1"
   ]
  },
  {
   "cell_type": "markdown",
   "id": "e31288c7",
   "metadata": {},
   "source": [
    "## JUMP STATEMENTS"
   ]
  },
  {
   "cell_type": "code",
   "execution_count": null,
   "id": "ed10fbb0",
   "metadata": {},
   "outputs": [],
   "source": [
    "break\n",
    "continue\n",
    "pass"
   ]
  },
  {
   "cell_type": "markdown",
   "id": "645e3982",
   "metadata": {},
   "source": [
    "BREAK"
   ]
  },
  {
   "cell_type": "code",
   "execution_count": 18,
   "id": "10cc7c89",
   "metadata": {},
   "outputs": [
    {
     "name": "stdout",
     "output_type": "stream",
     "text": [
      "Current Letter : P\n",
      "Current Letter : y\n",
      "Current Letter : t\n"
     ]
    }
   ],
   "source": [
    "for letter in 'Python':   \n",
    "   if letter == 'h':\n",
    "      break\n",
    "   print ('Current Letter :' , letter)"
   ]
  },
  {
   "cell_type": "markdown",
   "id": "7364a96a",
   "metadata": {},
   "source": [
    "CONTINUE"
   ]
  },
  {
   "cell_type": "code",
   "execution_count": 19,
   "id": "fe9d9e6e",
   "metadata": {},
   "outputs": [
    {
     "name": "stdout",
     "output_type": "stream",
     "text": [
      "1 2 3 4 5 7 8 9 10 "
     ]
    }
   ],
   "source": [
    "for i in range(1, 11):\n",
    " \n",
    "    # If i is equals to 6,\n",
    "    # continue to next iteration\n",
    "    # without printing\n",
    "    if i == 6:\n",
    "        continue\n",
    "    else:\n",
    "        # otherwise print the value\n",
    "        # of i\n",
    "        print(i, end=\" \")"
   ]
  },
  {
   "cell_type": "markdown",
   "id": "f113c4b0",
   "metadata": {},
   "source": [
    "PASS"
   ]
  },
  {
   "cell_type": "code",
   "execution_count": 23,
   "id": "f0021033",
   "metadata": {},
   "outputs": [
    {
     "name": "stdout",
     "output_type": "stream",
     "text": [
      "Current Letter : P\n",
      "Current Letter : y\n",
      "Current Letter : t\n",
      "This is pass block\n",
      "Current Letter : h\n",
      "Current Letter : o\n",
      "Current Letter : n\n"
     ]
    }
   ],
   "source": [
    "for letter in 'Python': \n",
    "   if letter == 'h':\n",
    "      pass\n",
    "      print ('This is pass block')\n",
    "   print( 'Current Letter :', letter)"
   ]
  },
  {
   "cell_type": "code",
   "execution_count": null,
   "id": "dbeb2a81",
   "metadata": {},
   "outputs": [],
   "source": []
  }
 ],
 "metadata": {
  "kernelspec": {
   "display_name": "Python 3 (ipykernel)",
   "language": "python",
   "name": "python3"
  },
  "language_info": {
   "codemirror_mode": {
    "name": "ipython",
    "version": 3
   },
   "file_extension": ".py",
   "mimetype": "text/x-python",
   "name": "python",
   "nbconvert_exporter": "python",
   "pygments_lexer": "ipython3",
   "version": "3.9.7"
  }
 },
 "nbformat": 4,
 "nbformat_minor": 5
}
