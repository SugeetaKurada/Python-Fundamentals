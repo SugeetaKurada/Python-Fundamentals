{
 "cells": [
  {
   "cell_type": "markdown",
   "id": "34793d2f",
   "metadata": {},
   "source": [
    "# Data Types in Python\n",
    "\n",
    "a) List:         []   Lists are used to store multiple items in a \"single variable\"\n",
    "b) Tuple:        ()   Tuples are used to store multiple items in a \"single variable\"\n",
    "c) Set:          {}   Sets are used to store multiple items in a \"single variable\"\n",
    "d) Dictionary:   {}   Dictionaries are used to store data values in \"key:value pairs\""
   ]
  },
  {
   "cell_type": "code",
   "execution_count": 36,
   "id": "b9c683f3",
   "metadata": {},
   "outputs": [],
   "source": [
    "mylist   = [\"apple\", \"banana\", \"cherry\"]\n",
    "mytuple  = (\"apple\", \"banana\", \"cherry\")\n",
    "myset    = {\"apple\", \"banana\", \"cherry\"}\n",
    "mydict   = {\n",
    "              \"brand\": \"Ford\",\n",
    "              \"model\": \"Mustang\",\n",
    "              \"year\": 1964\n",
    "           }"
   ]
  },
  {
   "cell_type": "markdown",
   "id": "f563d3ab",
   "metadata": {},
   "source": [
    "Indexed -> the first item has index [0], the second item has index [1] etc. \n",
    "Thus, we can access/modify the values using the Index for:\n",
    "\n",
    "a) Lists\n",
    "b) Tuples\n",
    "\n",
    "Not Indexed -> Python doesn't preserve the order / index\n",
    "c) Sets\n",
    "d) Dictionary"
   ]
  },
  {
   "cell_type": "markdown",
   "id": "99364d60",
   "metadata": {},
   "source": [
    "## Indexed Data Types"
   ]
  },
  {
   "cell_type": "code",
   "execution_count": 7,
   "id": "190edfb6",
   "metadata": {},
   "outputs": [
    {
     "data": {
      "text/plain": [
       "'apple'"
      ]
     },
     "execution_count": 7,
     "metadata": {},
     "output_type": "execute_result"
    }
   ],
   "source": [
    "mylist[0]"
   ]
  },
  {
   "cell_type": "code",
   "execution_count": 10,
   "id": "1a3edc62",
   "metadata": {},
   "outputs": [
    {
     "data": {
      "text/plain": [
       "'banana'"
      ]
     },
     "execution_count": 10,
     "metadata": {},
     "output_type": "execute_result"
    }
   ],
   "source": [
    "mytuple[1] # Note: Eventhough while creating tuples we use (), but while indexing we use []"
   ]
  },
  {
   "cell_type": "markdown",
   "id": "778f2be3",
   "metadata": {},
   "source": [
    "## Ordered Data Types\n",
    "\n",
    "The items have a defined order, and that order will not change. Thus, if we add new item, it will be placed at the end\n",
    "\n",
    "a) Lists are ordered\n",
    "\n",
    "b)  Tuple is data structure in python that can't be modified after being created (e.g. you can't append, add a new element or modify an existing element). Workaround is to convert the tuples to list, add/modify items to list and then convert back the list to tuple. Since lists are ordered => Tuples are oredered too.\n",
    "\n",
    "c) Sets are unordered\n",
    "\n",
    "d) Dictionaries are ordered (from Python 3.6 Version onwards)"
   ]
  },
  {
   "cell_type": "code",
   "execution_count": null,
   "id": "5ba21b08",
   "metadata": {},
   "outputs": [],
   "source": [
    "#Adding elements to Data Types"
   ]
  },
  {
   "cell_type": "code",
   "execution_count": 24,
   "id": "d78337e7",
   "metadata": {},
   "outputs": [
    {
     "name": "stdout",
     "output_type": "stream",
     "text": [
      "['apple', 'banana', 'cherry', 'berries', 'berries']\n"
     ]
    }
   ],
   "source": [
    "mylist.append('berries')\n",
    "print(mylist)"
   ]
  },
  {
   "cell_type": "markdown",
   "id": "a0f89ce7",
   "metadata": {},
   "source": [
    "#Note: We cant directly append an item to tuple\n",
    "\n",
    "Step1: Convert tuple to list\n",
    "Step2: Appdend element to list\n",
    "Step3: Convert list to tuple"
   ]
  },
  {
   "cell_type": "code",
   "execution_count": 37,
   "id": "1ee5edb1",
   "metadata": {},
   "outputs": [
    {
     "data": {
      "text/plain": [
       "('apple', 'banana', 'cherry', 'berries')"
      ]
     },
     "execution_count": 37,
     "metadata": {},
     "output_type": "execute_result"
    }
   ],
   "source": [
    "mytuple\n",
    "myconvertedtuple = list(mytuple)\n",
    "myconvertedtuple\n",
    "myconvertedtuple.append('berries')\n",
    "mytuple = tuple(myconvertedtuple)\n",
    "mytuple"
   ]
  },
  {
   "cell_type": "markdown",
   "id": "20edf589",
   "metadata": {},
   "source": [
    "Observation --> sets are unordered, hence an addition of the item randomly inserts it in the middle alphabetically"
   ]
  },
  {
   "cell_type": "code",
   "execution_count": 48,
   "id": "b9a3565e",
   "metadata": {},
   "outputs": [
    {
     "data": {
      "text/plain": [
       "{'apple', 'banana', 'berries', 'cherry'}"
      ]
     },
     "execution_count": 48,
     "metadata": {},
     "output_type": "execute_result"
    }
   ],
   "source": [
    "myset\n",
    "myset.add('berries')\n",
    "myset"
   ]
  },
  {
   "cell_type": "code",
   "execution_count": 40,
   "id": "a65019d0",
   "metadata": {},
   "outputs": [
    {
     "data": {
      "text/plain": [
       "{'brand': 'Ford', 'model': 'Mustang', 'year': 1964, 'color': 'red'}"
      ]
     },
     "execution_count": 40,
     "metadata": {},
     "output_type": "execute_result"
    }
   ],
   "source": [
    "mydict[\"color\"] = \"red\"\n",
    "mydict"
   ]
  },
  {
   "cell_type": "markdown",
   "id": "02c71db7",
   "metadata": {},
   "source": [
    "## Changeable Data Types\n",
    "\n",
    "Meaning that we can change, add, and remove items in a data type after it has been created.\n",
    "\n",
    "a) lists - YES\n",
    "b) tuples - NO\n",
    "c) sets - NO ( But we can add and remove items)\n",
    "d) dictionary- YES"
   ]
  },
  {
   "cell_type": "markdown",
   "id": "5cef5b89",
   "metadata": {},
   "source": [
    "#Deleting elements from Data Types"
   ]
  },
  {
   "cell_type": "code",
   "execution_count": 43,
   "id": "223fab95",
   "metadata": {},
   "outputs": [
    {
     "data": {
      "text/plain": [
       "['apple', 'banana']"
      ]
     },
     "execution_count": 43,
     "metadata": {},
     "output_type": "execute_result"
    }
   ],
   "source": [
    "mylist.pop(2)\n",
    "mylist"
   ]
  },
  {
   "cell_type": "code",
   "execution_count": 50,
   "id": "336985fa",
   "metadata": {},
   "outputs": [
    {
     "data": {
      "text/plain": [
       "{'apple', 'banana', 'cherry'}"
      ]
     },
     "execution_count": 50,
     "metadata": {},
     "output_type": "execute_result"
    }
   ],
   "source": [
    "myset.remove('berries')\n",
    "myset"
   ]
  },
  {
   "cell_type": "code",
   "execution_count": 41,
   "id": "95555427",
   "metadata": {},
   "outputs": [
    {
     "data": {
      "text/plain": [
       "{'brand': 'Ford', 'model': 'Mustang', 'year': 1964}"
      ]
     },
     "execution_count": 41,
     "metadata": {},
     "output_type": "execute_result"
    }
   ],
   "source": [
    "mydict.pop(\"color\")\n",
    "mydict"
   ]
  },
  {
   "cell_type": "code",
   "execution_count": null,
   "id": "9215f897",
   "metadata": {},
   "outputs": [],
   "source": [
    "#Modifyng single elements from Data Types"
   ]
  },
  {
   "cell_type": "code",
   "execution_count": 53,
   "id": "13a393a2",
   "metadata": {},
   "outputs": [
    {
     "data": {
      "text/plain": [
       "['Apricot', 'banana']"
      ]
     },
     "execution_count": 53,
     "metadata": {},
     "output_type": "execute_result"
    }
   ],
   "source": [
    "mylist[0]='Apricot'\n",
    "mylist"
   ]
  },
  {
   "cell_type": "markdown",
   "id": "bbecf526",
   "metadata": {},
   "source": [
    "## Duplicates Data Types\n",
    "\n",
    "a) Lists - Since lists are indexed duplicates are allowed\n",
    "b) Tuples - Since tuples are indexed duplicates are allowed\n",
    "c) Sets - Duplicates are not allowed\n",
    "d) Dictionary - Duplicates are not allowed"
   ]
  },
  {
   "cell_type": "code",
   "execution_count": null,
   "id": "33516dcb",
   "metadata": {},
   "outputs": [],
   "source": []
  },
  {
   "cell_type": "code",
   "execution_count": null,
   "id": "947ed88e",
   "metadata": {},
   "outputs": [],
   "source": []
  }
 ],
 "metadata": {
  "kernelspec": {
   "display_name": "Python 3 (ipykernel)",
   "language": "python",
   "name": "python3"
  },
  "language_info": {
   "codemirror_mode": {
    "name": "ipython",
    "version": 3
   },
   "file_extension": ".py",
   "mimetype": "text/x-python",
   "name": "python",
   "nbconvert_exporter": "python",
   "pygments_lexer": "ipython3",
   "version": "3.9.7"
  }
 },
 "nbformat": 4,
 "nbformat_minor": 5
}
