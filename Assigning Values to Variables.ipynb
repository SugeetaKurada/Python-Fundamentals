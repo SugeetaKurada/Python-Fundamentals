{
 "cells": [
  {
   "cell_type": "markdown",
   "id": "0eeb7e77",
   "metadata": {},
   "source": [
    "## Method 1: Direct Initialisation Method "
   ]
  },
  {
   "cell_type": "code",
   "execution_count": 1,
   "id": "eaee8934",
   "metadata": {},
   "outputs": [
    {
     "name": "stdout",
     "output_type": "stream",
     "text": [
      "The value of a is: 5\n"
     ]
    }
   ],
   "source": [
    "# initialising variable directly\n",
    "a = 5\n",
    " \n",
    "# printing value of a\n",
    "print (\"The value of a is: \" + str(a))"
   ]
  },
  {
   "cell_type": "markdown",
   "id": "f3b3d680",
   "metadata": {},
   "source": [
    "## Method 2: Using Conditional Operator (?:)"
   ]
  },
  {
   "cell_type": "code",
   "execution_count": 2,
   "id": "d52d7062",
   "metadata": {},
   "outputs": [
    {
     "name": "stdout",
     "output_type": "stream",
     "text": [
      "The value of a is:  1\n"
     ]
    }
   ],
   "source": [
    "# Initialising variables using Conditional Operator\n",
    "a = 1 if 20 > 10 else 0\n",
    " \n",
    "# Printing value of a\n",
    "print(\"The value of a is: \" , str(a))"
   ]
  }
 ],
 "metadata": {
  "kernelspec": {
   "display_name": "Python 3 (ipykernel)",
   "language": "python",
   "name": "python3"
  },
  "language_info": {
   "codemirror_mode": {
    "name": "ipython",
    "version": 3
   },
   "file_extension": ".py",
   "mimetype": "text/x-python",
   "name": "python",
   "nbconvert_exporter": "python",
   "pygments_lexer": "ipython3",
   "version": "3.9.7"
  }
 },
 "nbformat": 4,
 "nbformat_minor": 5
}
