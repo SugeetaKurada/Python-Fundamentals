{
 "cells": [
  {
   "cell_type": "code",
   "execution_count": null,
   "id": "aef583e0",
   "metadata": {},
   "outputs": [],
   "source": [
    "# Creating a List "
   ]
  },
  {
   "cell_type": "code",
   "execution_count": 34,
   "id": "ffd28737",
   "metadata": {},
   "outputs": [],
   "source": [
    "mylist = ['Delhi', 'Mumbai', 'Chennai', 'Kolkata']"
   ]
  },
  {
   "cell_type": "code",
   "execution_count": null,
   "id": "c50c5dcb",
   "metadata": {},
   "outputs": [],
   "source": [
    "# list.append(x) \n",
    "# Append List - Add an item to the end of the list"
   ]
  },
  {
   "cell_type": "code",
   "execution_count": 35,
   "id": "a8488ace",
   "metadata": {},
   "outputs": [
    {
     "data": {
      "text/plain": [
       "['Delhi', 'Mumbai', 'Chennai', 'Kolkata', 'Hyderabad']"
      ]
     },
     "execution_count": 35,
     "metadata": {},
     "output_type": "execute_result"
    }
   ],
   "source": [
    "mylist.append('Hyderabad')\n",
    "mylist"
   ]
  },
  {
   "cell_type": "code",
   "execution_count": null,
   "id": "be9b7494",
   "metadata": {},
   "outputs": [],
   "source": [
    "# list.extend(iterable). \n",
    "# Extend the list by appending all the items from the iterable. The extend() method adds all the elements of an iterable (list, tuple, string etc.) to the end of the list."
   ]
  },
  {
   "cell_type": "code",
   "execution_count": 36,
   "id": "d2c294f8",
   "metadata": {},
   "outputs": [],
   "source": [
    "myotherlist = ['Chicago', 'NewYork', 'Dallas', 'Los Angeles']"
   ]
  },
  {
   "cell_type": "code",
   "execution_count": 37,
   "id": "31f45baf",
   "metadata": {},
   "outputs": [
    {
     "data": {
      "text/plain": [
       "['Delhi',\n",
       " 'Mumbai',\n",
       " 'Chennai',\n",
       " 'Kolkata',\n",
       " 'Hyderabad',\n",
       " 'Chicago',\n",
       " 'NewYork',\n",
       " 'Dallas',\n",
       " 'Los Angeles']"
      ]
     },
     "execution_count": 37,
     "metadata": {},
     "output_type": "execute_result"
    }
   ],
   "source": [
    "mylist.extend(myotherlist)\n",
    "mylist"
   ]
  },
  {
   "cell_type": "code",
   "execution_count": null,
   "id": "f1f403ee",
   "metadata": {},
   "outputs": [],
   "source": [
    "# list.insert(i, x)\n",
    "# Insert an item at a given position. The first argument is the index of the element before which to insert, so a.insert(0, x) inserts at the front of the list, and a.insert(len(a), x) is equivalent to a.append(x)."
   ]
  },
  {
   "cell_type": "code",
   "execution_count": 38,
   "id": "04bf09b5",
   "metadata": {},
   "outputs": [
    {
     "data": {
      "text/plain": [
       "['BANARAS',\n",
       " 'Delhi',\n",
       " 'Mumbai',\n",
       " 'Chennai',\n",
       " 'Kolkata',\n",
       " 'Hyderabad',\n",
       " 'Chicago',\n",
       " 'NewYork',\n",
       " 'Dallas',\n",
       " 'Los Angeles']"
      ]
     },
     "execution_count": 38,
     "metadata": {},
     "output_type": "execute_result"
    }
   ],
   "source": [
    "mylist.insert(0,'BANARAS')\n",
    "mylist"
   ]
  },
  {
   "cell_type": "code",
   "execution_count": 39,
   "id": "06aabae2",
   "metadata": {},
   "outputs": [
    {
     "data": {
      "text/plain": [
       "['BANARAS',\n",
       " 'Delhi',\n",
       " 'Mumbai',\n",
       " 'Chennai',\n",
       " 'Kolkata',\n",
       " 'Hyderabad',\n",
       " 'DEHRADUN',\n",
       " 'Chicago',\n",
       " 'NewYork',\n",
       " 'Dallas',\n",
       " 'Los Angeles']"
      ]
     },
     "execution_count": 39,
     "metadata": {},
     "output_type": "execute_result"
    }
   ],
   "source": [
    "mylist.insert(6,'DEHRADUN')\n",
    "mylist"
   ]
  },
  {
   "cell_type": "code",
   "execution_count": 40,
   "id": "79788fc8",
   "metadata": {},
   "outputs": [
    {
     "data": {
      "text/plain": [
       "['BANARAS',\n",
       " 'Delhi',\n",
       " 'Mumbai',\n",
       " 'Chennai',\n",
       " 'Kolkata',\n",
       " 'Hyderabad',\n",
       " 'DEHRADUN',\n",
       " 'Chicago',\n",
       " 'NewYork',\n",
       " 'Dallas',\n",
       " 'Los Angeles',\n",
       " 'KANSAS CITY']"
      ]
     },
     "execution_count": 40,
     "metadata": {},
     "output_type": "execute_result"
    }
   ],
   "source": [
    "mylist.insert(len(mylist),'KANSAS CITY')\n",
    "mylist"
   ]
  },
  {
   "cell_type": "code",
   "execution_count": 41,
   "id": "50e81bc0",
   "metadata": {},
   "outputs": [
    {
     "data": {
      "text/plain": [
       "['BANARAS',\n",
       " 'Delhi',\n",
       " 'Mumbai',\n",
       " 'Chennai',\n",
       " 'Kolkata',\n",
       " 'Hyderabad',\n",
       " 'DEHRADUN',\n",
       " 'Chicago',\n",
       " 'NewYork',\n",
       " 'Dallas',\n",
       " 'Los Angeles',\n",
       " 'KANSAS CITY',\n",
       " 'Append - KANSAS CITY']"
      ]
     },
     "execution_count": 41,
     "metadata": {},
     "output_type": "execute_result"
    }
   ],
   "source": [
    "mylist.append('Append - KANSAS CITY')\n",
    "mylist"
   ]
  },
  {
   "cell_type": "code",
   "execution_count": null,
   "id": "07ce7d17",
   "metadata": {},
   "outputs": [],
   "source": [
    "# list.remove(x)\n",
    "# Remove the first item from the list whose value is equal to x. If there are duplicate items - It removes one of the duplicates"
   ]
  },
  {
   "cell_type": "code",
   "execution_count": 42,
   "id": "f6bdbcd0",
   "metadata": {},
   "outputs": [
    {
     "data": {
      "text/plain": [
       "['BANARAS',\n",
       " 'Delhi',\n",
       " 'Mumbai',\n",
       " 'Chennai',\n",
       " 'Kolkata',\n",
       " 'Hyderabad',\n",
       " 'DEHRADUN',\n",
       " 'Chicago',\n",
       " 'NewYork',\n",
       " 'Dallas',\n",
       " 'Los Angeles',\n",
       " 'KANSAS CITY']"
      ]
     },
     "execution_count": 42,
     "metadata": {},
     "output_type": "execute_result"
    }
   ],
   "source": [
    "mylist.remove('Append - KANSAS CITY')\n",
    "mylist"
   ]
  },
  {
   "cell_type": "code",
   "execution_count": null,
   "id": "0032ed6d",
   "metadata": {},
   "outputs": [],
   "source": [
    "# list.pop([i])\n",
    "# Remove the item at the given position in the list, and return it. If no index is specified, a.pop() removes and returns the last item in the list. (The square brackets around the i in the method signature denote that the parameter is optional, not that you should type square brackets at that position. You will see this notation frequently in the Python Library Reference.)"
   ]
  },
  {
   "cell_type": "code",
   "execution_count": 45,
   "id": "363c6e5f",
   "metadata": {},
   "outputs": [
    {
     "data": {
      "text/plain": [
       "['BANARAS',\n",
       " 'Mumbai',\n",
       " 'Chennai',\n",
       " 'Kolkata',\n",
       " 'Hyderabad',\n",
       " 'DEHRADUN',\n",
       " 'Chicago',\n",
       " 'NewYork',\n",
       " 'Dallas',\n",
       " 'Los Angeles',\n",
       " 'KANSAS CITY']"
      ]
     },
     "execution_count": 45,
     "metadata": {},
     "output_type": "execute_result"
    }
   ],
   "source": [
    "mylist.pop(1)\n",
    "mylist"
   ]
  },
  {
   "cell_type": "code",
   "execution_count": 47,
   "id": "3817e262",
   "metadata": {},
   "outputs": [
    {
     "data": {
      "text/plain": [
       "['BANARAS',\n",
       " 'Mumbai',\n",
       " 'Chennai',\n",
       " 'Kolkata',\n",
       " 'Hyderabad',\n",
       " 'DEHRADUN',\n",
       " 'Chicago',\n",
       " 'NewYork',\n",
       " 'Dallas',\n",
       " 'Los Angeles']"
      ]
     },
     "execution_count": 47,
     "metadata": {},
     "output_type": "execute_result"
    }
   ],
   "source": [
    "mylist.pop(len(mylist)-1)\n",
    "mylist"
   ]
  },
  {
   "cell_type": "code",
   "execution_count": 48,
   "id": "0b4f5bbc",
   "metadata": {},
   "outputs": [],
   "source": [
    "A = mylist.pop(0) # Return the item removed from the list"
   ]
  },
  {
   "cell_type": "code",
   "execution_count": 49,
   "id": "d7d585c7",
   "metadata": {},
   "outputs": [
    {
     "data": {
      "text/plain": [
       "'BANARAS'"
      ]
     },
     "execution_count": 49,
     "metadata": {},
     "output_type": "execute_result"
    }
   ],
   "source": [
    "A"
   ]
  },
  {
   "cell_type": "code",
   "execution_count": 50,
   "id": "43d7d242",
   "metadata": {},
   "outputs": [
    {
     "data": {
      "text/plain": [
       "['Mumbai',\n",
       " 'Chennai',\n",
       " 'Kolkata',\n",
       " 'Hyderabad',\n",
       " 'DEHRADUN',\n",
       " 'Chicago',\n",
       " 'NewYork',\n",
       " 'Dallas',\n",
       " 'Los Angeles']"
      ]
     },
     "execution_count": 50,
     "metadata": {},
     "output_type": "execute_result"
    }
   ],
   "source": [
    "mylist"
   ]
  },
  {
   "cell_type": "code",
   "execution_count": null,
   "id": "c8c99cdf",
   "metadata": {},
   "outputs": [],
   "source": [
    "# list.index(x) Return zero-based index in the list of the first item whose value is equal to x."
   ]
  },
  {
   "cell_type": "code",
   "execution_count": 59,
   "id": "441c0fb0",
   "metadata": {},
   "outputs": [
    {
     "data": {
      "text/plain": [
       "1"
      ]
     },
     "execution_count": 59,
     "metadata": {},
     "output_type": "execute_result"
    }
   ],
   "source": [
    "mylist.index('Chennai')"
   ]
  },
  {
   "cell_type": "code",
   "execution_count": null,
   "id": "f4cc600a",
   "metadata": {},
   "outputs": [],
   "source": [
    "# Return the number of times x appears in the list."
   ]
  },
  {
   "cell_type": "code",
   "execution_count": 60,
   "id": "36fb6398",
   "metadata": {},
   "outputs": [
    {
     "data": {
      "text/plain": [
       "1"
      ]
     },
     "execution_count": 60,
     "metadata": {},
     "output_type": "execute_result"
    }
   ],
   "source": [
    "mylist.count('Chennai')"
   ]
  },
  {
   "cell_type": "code",
   "execution_count": null,
   "id": "c6983593",
   "metadata": {},
   "outputs": [],
   "source": [
    "# list.sort(*, key=None, reverse=False) Sort the items of the list in place (the arguments can be used for sort customization, see sorted() for their explanation)."
   ]
  },
  {
   "cell_type": "code",
   "execution_count": 62,
   "id": "111340ef",
   "metadata": {},
   "outputs": [
    {
     "data": {
      "text/plain": [
       "['Chennai',\n",
       " 'Chicago',\n",
       " 'DEHRADUN',\n",
       " 'Dallas',\n",
       " 'Hyderabad',\n",
       " 'Kolkata',\n",
       " 'Los Angeles',\n",
       " 'Mumbai',\n",
       " 'NewYork']"
      ]
     },
     "execution_count": 62,
     "metadata": {},
     "output_type": "execute_result"
    }
   ],
   "source": [
    "mylist.sort()\n",
    "mylist"
   ]
  },
  {
   "cell_type": "code",
   "execution_count": 63,
   "id": "cb8f6df9",
   "metadata": {},
   "outputs": [
    {
     "data": {
      "text/plain": [
       "['NewYork',\n",
       " 'Mumbai',\n",
       " 'Los Angeles',\n",
       " 'Kolkata',\n",
       " 'Hyderabad',\n",
       " 'Dallas',\n",
       " 'DEHRADUN',\n",
       " 'Chicago',\n",
       " 'Chennai']"
      ]
     },
     "execution_count": 63,
     "metadata": {},
     "output_type": "execute_result"
    }
   ],
   "source": [
    "mylist.sort(reverse=True)\n",
    "mylist"
   ]
  },
  {
   "cell_type": "code",
   "execution_count": 64,
   "id": "9f67aa36",
   "metadata": {},
   "outputs": [
    {
     "data": {
      "text/plain": [
       "['Mumbai',\n",
       " 'Dallas',\n",
       " 'NewYork',\n",
       " 'Kolkata',\n",
       " 'Chicago',\n",
       " 'Chennai',\n",
       " 'DEHRADUN',\n",
       " 'Hyderabad',\n",
       " 'Los Angeles']"
      ]
     },
     "execution_count": 64,
     "metadata": {},
     "output_type": "execute_result"
    }
   ],
   "source": [
    "# sorting list based on the length of the elements\n",
    "mylist.sort(key = len)\n",
    "mylist"
   ]
  },
  {
   "cell_type": "code",
   "execution_count": 65,
   "id": "e7701bda",
   "metadata": {},
   "outputs": [
    {
     "data": {
      "text/plain": [
       "['Los Angeles',\n",
       " 'Hyderabad',\n",
       " 'DEHRADUN',\n",
       " 'NewYork',\n",
       " 'Kolkata',\n",
       " 'Chicago',\n",
       " 'Chennai',\n",
       " 'Mumbai',\n",
       " 'Dallas']"
      ]
     },
     "execution_count": 65,
     "metadata": {},
     "output_type": "execute_result"
    }
   ],
   "source": [
    "# sorting list based on the length of the elements\n",
    "mylist.sort(key = len, reverse = True)\n",
    "mylist"
   ]
  },
  {
   "cell_type": "code",
   "execution_count": 66,
   "id": "16bfd9a8",
   "metadata": {},
   "outputs": [],
   "source": [
    "# Create a List \n",
    "\n",
    "employees = [\n",
    "    {'Name': 'Alan Turing', 'age': 25, 'salary': 10000},\n",
    "    {'Name': 'Sharon Lin', 'age': 30, 'salary': 8000},\n",
    "    {'Name': 'John Hopkins', 'age': 18, 'salary': 1000},\n",
    "    {'Name': 'Mikhail Tal', 'age': 40, 'salary': 15000},\n",
    "]"
   ]
  },
  {
   "cell_type": "code",
   "execution_count": 67,
   "id": "0ef4357c",
   "metadata": {},
   "outputs": [
    {
     "data": {
      "text/plain": [
       "[{'Name': 'Alan Turing', 'age': 25, 'salary': 10000},\n",
       " {'Name': 'Sharon Lin', 'age': 30, 'salary': 8000},\n",
       " {'Name': 'John Hopkins', 'age': 18, 'salary': 1000},\n",
       " {'Name': 'Mikhail Tal', 'age': 40, 'salary': 15000}]"
      ]
     },
     "execution_count": 67,
     "metadata": {},
     "output_type": "execute_result"
    }
   ],
   "source": [
    "employees"
   ]
  },
  {
   "cell_type": "code",
   "execution_count": 75,
   "id": "3835f138",
   "metadata": {},
   "outputs": [],
   "source": [
    "# custom functions to get employee info\n",
    "def get_name(employees):\n",
    "    return employees.get('Name')\n",
    "\n",
    "\n",
    "def get_age(employees):\n",
    "    return employees.get('age')\n",
    "\n",
    "\n",
    "def get_salary(employees):\n",
    "    return employees.get('salary')"
   ]
  },
  {
   "cell_type": "code",
   "execution_count": 77,
   "id": "e52d4356",
   "metadata": {},
   "outputs": [
    {
     "data": {
      "text/plain": [
       "[{'Name': 'Alan Turing', 'age': 25, 'salary': 10000},\n",
       " {'Name': 'John Hopkins', 'age': 18, 'salary': 1000},\n",
       " {'Name': 'Mikhail Tal', 'age': 40, 'salary': 15000},\n",
       " {'Name': 'Sharon Lin', 'age': 30, 'salary': 8000}]"
      ]
     },
     "execution_count": 77,
     "metadata": {},
     "output_type": "execute_result"
    }
   ],
   "source": [
    "# sorting by key. Key could be an in-built function or a custom function as above\n",
    "employees.sort(key=get_name)\n",
    "employees"
   ]
  },
  {
   "cell_type": "code",
   "execution_count": 84,
   "id": "a253dc5b",
   "metadata": {},
   "outputs": [
    {
     "data": {
      "text/plain": [
       "[{'Name': 'Alan Turing', 'age': 25, 'salary': 10000},\n",
       " {'Name': 'John Hopkins', 'age': 18, 'salary': 1000},\n",
       " {'Name': 'Mikhail Tal', 'age': 40, 'salary': 15000},\n",
       " {'Name': 'Sharon Lin', 'age': 30, 'salary': 8000}]"
      ]
     },
     "execution_count": 84,
     "metadata": {},
     "output_type": "execute_result"
    }
   ],
   "source": [
    "employees.sort(key=lambda x: x.get('Name'))\n",
    "employees"
   ]
  },
  {
   "cell_type": "code",
   "execution_count": 78,
   "id": "60e77019",
   "metadata": {},
   "outputs": [
    {
     "data": {
      "text/plain": [
       "[{'Name': 'John Hopkins', 'age': 18, 'salary': 1000},\n",
       " {'Name': 'Alan Turing', 'age': 25, 'salary': 10000},\n",
       " {'Name': 'Sharon Lin', 'age': 30, 'salary': 8000},\n",
       " {'Name': 'Mikhail Tal', 'age': 40, 'salary': 15000}]"
      ]
     },
     "execution_count": 78,
     "metadata": {},
     "output_type": "execute_result"
    }
   ],
   "source": [
    "# sorting by age\n",
    "employees.sort(key=get_age)\n",
    "employees"
   ]
  },
  {
   "cell_type": "code",
   "execution_count": 85,
   "id": "7054ee76",
   "metadata": {},
   "outputs": [
    {
     "data": {
      "text/plain": [
       "[{'Name': 'John Hopkins', 'age': 18, 'salary': 1000},\n",
       " {'Name': 'Alan Turing', 'age': 25, 'salary': 10000},\n",
       " {'Name': 'Sharon Lin', 'age': 30, 'salary': 8000},\n",
       " {'Name': 'Mikhail Tal', 'age': 40, 'salary': 15000}]"
      ]
     },
     "execution_count": 85,
     "metadata": {},
     "output_type": "execute_result"
    }
   ],
   "source": [
    "employees.sort(key=lambda x: x.get('age'))\n",
    "employees"
   ]
  },
  {
   "cell_type": "code",
   "execution_count": 79,
   "id": "8f475661",
   "metadata": {},
   "outputs": [
    {
     "data": {
      "text/plain": [
       "[{'Name': 'John Hopkins', 'age': 18, 'salary': 1000},\n",
       " {'Name': 'Sharon Lin', 'age': 30, 'salary': 8000},\n",
       " {'Name': 'Alan Turing', 'age': 25, 'salary': 10000},\n",
       " {'Name': 'Mikhail Tal', 'age': 40, 'salary': 15000}]"
      ]
     },
     "execution_count": 79,
     "metadata": {},
     "output_type": "execute_result"
    }
   ],
   "source": [
    "# sorting by salary\n",
    "employees.sort(key=get_salary)\n",
    "employees"
   ]
  },
  {
   "cell_type": "code",
   "execution_count": 86,
   "id": "84996cb4",
   "metadata": {},
   "outputs": [
    {
     "data": {
      "text/plain": [
       "[{'Name': 'Mikhail Tal', 'age': 40, 'salary': 15000},\n",
       " {'Name': 'Alan Turing', 'age': 25, 'salary': 10000},\n",
       " {'Name': 'Sharon Lin', 'age': 30, 'salary': 8000},\n",
       " {'Name': 'John Hopkins', 'age': 18, 'salary': 1000}]"
      ]
     },
     "execution_count": 86,
     "metadata": {},
     "output_type": "execute_result"
    }
   ],
   "source": [
    "employees.sort(key=lambda x: x.get('salary'), reverse=True)\n",
    "employees"
   ]
  },
  {
   "cell_type": "code",
   "execution_count": null,
   "id": "f091796d",
   "metadata": {},
   "outputs": [],
   "source": [
    "# list.reverse() Reverse the elements of the list in place."
   ]
  },
  {
   "cell_type": "code",
   "execution_count": 91,
   "id": "7008a7d1",
   "metadata": {},
   "outputs": [
    {
     "data": {
      "text/plain": [
       "[{'Name': 'John Hopkins', 'age': 18, 'salary': 1000},\n",
       " {'Name': 'Sharon Lin', 'age': 30, 'salary': 8000},\n",
       " {'Name': 'Alan Turing', 'age': 25, 'salary': 10000},\n",
       " {'Name': 'Mikhail Tal', 'age': 40, 'salary': 15000}]"
      ]
     },
     "execution_count": 91,
     "metadata": {},
     "output_type": "execute_result"
    }
   ],
   "source": [
    "employees.reverse()\n",
    "employees"
   ]
  },
  {
   "cell_type": "code",
   "execution_count": 92,
   "id": "0c0da3e3",
   "metadata": {},
   "outputs": [
    {
     "data": {
      "text/plain": [
       "[{'Name': 'Mikhail Tal', 'age': 40, 'salary': 15000},\n",
       " {'Name': 'Alan Turing', 'age': 25, 'salary': 10000},\n",
       " {'Name': 'Sharon Lin', 'age': 30, 'salary': 8000},\n",
       " {'Name': 'John Hopkins', 'age': 18, 'salary': 1000}]"
      ]
     },
     "execution_count": 92,
     "metadata": {},
     "output_type": "execute_result"
    }
   ],
   "source": [
    "employees.reverse()\n",
    "employees"
   ]
  },
  {
   "cell_type": "code",
   "execution_count": null,
   "id": "cecfe8ea",
   "metadata": {},
   "outputs": [],
   "source": [
    "# list.copy() Return a shallow copy of the list."
   ]
  },
  {
   "cell_type": "code",
   "execution_count": 93,
   "id": "000a5a37",
   "metadata": {},
   "outputs": [
    {
     "data": {
      "text/plain": [
       "['Los Angeles',\n",
       " 'Hyderabad',\n",
       " 'DEHRADUN',\n",
       " 'NewYork',\n",
       " 'Kolkata',\n",
       " 'Chicago',\n",
       " 'Chennai',\n",
       " 'Mumbai',\n",
       " 'Dallas']"
      ]
     },
     "execution_count": 93,
     "metadata": {},
     "output_type": "execute_result"
    }
   ],
   "source": [
    "mylist.copy()\n",
    "mylist"
   ]
  },
  {
   "cell_type": "code",
   "execution_count": null,
   "id": "5d47a636",
   "metadata": {},
   "outputs": [],
   "source": [
    "# Using Lists as stacks\n",
    "# The list methods make it very easy to use a list as a stack, where the last element added is the first element retrieved (“last-in, first-out”)."
   ]
  },
  {
   "cell_type": "code",
   "execution_count": 94,
   "id": "eef3ee69",
   "metadata": {},
   "outputs": [
    {
     "data": {
      "text/plain": [
       "[3, 4, 5, 6, 7]"
      ]
     },
     "execution_count": 94,
     "metadata": {},
     "output_type": "execute_result"
    }
   ],
   "source": [
    "stack = [3, 4, 5]\n",
    "stack.append(6)\n",
    "stack.append(7)\n",
    "stack"
   ]
  },
  {
   "cell_type": "code",
   "execution_count": 95,
   "id": "a08d14a3",
   "metadata": {},
   "outputs": [
    {
     "data": {
      "text/plain": [
       "7"
      ]
     },
     "execution_count": 95,
     "metadata": {},
     "output_type": "execute_result"
    }
   ],
   "source": [
    "stack.pop() # removes the items from the last (LIFO)"
   ]
  },
  {
   "cell_type": "code",
   "execution_count": null,
   "id": "17f633db",
   "metadata": {},
   "outputs": [],
   "source": [
    "# Using Lists as queues\n",
    "# To use a list as a queue, where the first element added is the first element retrieved (“first-in, first-out”)\n",
    "# Slow process - doing inserts or pops from the beginning of a list (because all of the other elements have to be shifted by one)"
   ]
  },
  {
   "cell_type": "code",
   "execution_count": 98,
   "id": "32b8aceb",
   "metadata": {},
   "outputs": [
    {
     "data": {
      "text/plain": [
       "deque(['Eric', 'John', 'Michael', 'Terry', 'Graham'])"
      ]
     },
     "execution_count": 98,
     "metadata": {},
     "output_type": "execute_result"
    }
   ],
   "source": [
    "from collections import deque\n",
    "queue = deque([\"Eric\", \"John\", \"Michael\"])\n",
    "queue.append(\"Terry\")           # adds the item to the end of list\n",
    "queue.append(\"Graham\")          # adds the item to the end of list\n",
    "queue"
   ]
  },
  {
   "cell_type": "code",
   "execution_count": 99,
   "id": "52a36086",
   "metadata": {},
   "outputs": [
    {
     "data": {
      "text/plain": [
       "'Eric'"
      ]
     },
     "execution_count": 99,
     "metadata": {},
     "output_type": "execute_result"
    }
   ],
   "source": [
    "queue.popleft()                 # removes the item from the begin of list"
   ]
  },
  {
   "cell_type": "code",
   "execution_count": 100,
   "id": "c1f79a9e",
   "metadata": {},
   "outputs": [
    {
     "data": {
      "text/plain": [
       "deque(['John', 'Michael', 'Terry', 'Graham'])"
      ]
     },
     "execution_count": 100,
     "metadata": {},
     "output_type": "execute_result"
    }
   ],
   "source": [
    "queue"
   ]
  },
  {
   "cell_type": "code",
   "execution_count": 101,
   "id": "d48026a4",
   "metadata": {},
   "outputs": [
    {
     "data": {
      "text/plain": [
       "'John'"
      ]
     },
     "execution_count": 101,
     "metadata": {},
     "output_type": "execute_result"
    }
   ],
   "source": [
    "queue.popleft()                # removes the item from the begin of list"
   ]
  },
  {
   "cell_type": "code",
   "execution_count": 102,
   "id": "dac471ca",
   "metadata": {},
   "outputs": [
    {
     "data": {
      "text/plain": [
       "deque(['Michael', 'Terry', 'Graham'])"
      ]
     },
     "execution_count": 102,
     "metadata": {},
     "output_type": "execute_result"
    }
   ],
   "source": [
    "queue"
   ]
  },
  {
   "cell_type": "code",
   "execution_count": null,
   "id": "2bc0ebbf",
   "metadata": {},
   "outputs": [],
   "source": [
    "# List comprehension "
   ]
  },
  {
   "cell_type": "code",
   "execution_count": 107,
   "id": "7f4c2bd1",
   "metadata": {},
   "outputs": [
    {
     "data": {
      "text/plain": [
       "[0, 1, 4, 9, 16, 25, 36, 49, 64, 81]"
      ]
     },
     "execution_count": 107,
     "metadata": {},
     "output_type": "execute_result"
    }
   ],
   "source": [
    "Num = list(map(lambda x: x**2, range(10)))\n",
    "Num"
   ]
  },
  {
   "cell_type": "markdown",
   "id": "6f215bce",
   "metadata": {},
   "source": [
    "## Lists Comprehension"
   ]
  },
  {
   "cell_type": "code",
   "execution_count": null,
   "id": "db5d4580",
   "metadata": {},
   "outputs": [],
   "source": [
    "# Create a List using For Loop"
   ]
  },
  {
   "cell_type": "code",
   "execution_count": 21,
   "id": "924cbd10",
   "metadata": {},
   "outputs": [
    {
     "data": {
      "text/plain": [
       "[0, 1, 4, 9, 16, 25, 36, 49, 64, 81]"
      ]
     },
     "execution_count": 21,
     "metadata": {},
     "output_type": "execute_result"
    }
   ],
   "source": [
    "squares = [x**2 for x in range(10)]\n",
    "squares"
   ]
  },
  {
   "cell_type": "code",
   "execution_count": 9,
   "id": "154f065e",
   "metadata": {},
   "outputs": [
    {
     "data": {
      "text/plain": [
       "[0, 1, 4, 9, 16, 25, 36, 49, 64, 81]"
      ]
     },
     "execution_count": 9,
     "metadata": {},
     "output_type": "execute_result"
    }
   ],
   "source": [
    "squares = [] # Step1: Create an empty list\n",
    "\n",
    "for x in range(10):   # Step 2: Now fill in the list elements using the for loop\n",
    "    squares.append(x**2)\n",
    "\n",
    "squares # Step 3: Print List"
   ]
  },
  {
   "cell_type": "code",
   "execution_count": null,
   "id": "a613bdd5",
   "metadata": {},
   "outputs": [],
   "source": [
    "# Create a List using Map & Lambda"
   ]
  },
  {
   "cell_type": "code",
   "execution_count": 10,
   "id": "68170226",
   "metadata": {},
   "outputs": [
    {
     "data": {
      "text/plain": [
       "[0, 1, 4, 9, 16, 25, 36, 49, 64, 81]"
      ]
     },
     "execution_count": 10,
     "metadata": {},
     "output_type": "execute_result"
    }
   ],
   "source": [
    "squares = list(map(lambda x: x**2, range(10)))\n",
    "squares"
   ]
  },
  {
   "cell_type": "code",
   "execution_count": 14,
   "id": "b1012c8a",
   "metadata": {},
   "outputs": [
    {
     "data": {
      "text/plain": [
       "[(1, 300),\n",
       " (1, 100),\n",
       " (1, 400),\n",
       " (2, 300),\n",
       " (2, 100),\n",
       " (2, 400),\n",
       " (3, 300),\n",
       " (3, 100),\n",
       " (3, 400)]"
      ]
     },
     "execution_count": 14,
     "metadata": {},
     "output_type": "execute_result"
    }
   ],
   "source": [
    "[(x, y) # Create a list by combining two lists\n",
    " for x in [1,2,3] \n",
    " for y in [300,100,400] \n",
    " ]"
   ]
  },
  {
   "cell_type": "code",
   "execution_count": 17,
   "id": "d32641e7",
   "metadata": {},
   "outputs": [
    {
     "data": {
      "text/plain": [
       "[(1, 300),\n",
       " (1, 100),\n",
       " (1, 400),\n",
       " (2, 300),\n",
       " (2, 100),\n",
       " (2, 400),\n",
       " (3, 300),\n",
       " (3, 100),\n",
       " (3, 400)]"
      ]
     },
     "execution_count": 17,
     "metadata": {},
     "output_type": "execute_result"
    }
   ],
   "source": [
    "combs = []\n",
    "for x in [1,2,3]:\n",
    "    for y in [300,100,400]:\n",
    "            combs.append((x, y))\n",
    "combs"
   ]
  },
  {
   "cell_type": "markdown",
   "id": "cd99bf0f",
   "metadata": {},
   "source": [
    "## List Operations"
   ]
  },
  {
   "cell_type": "code",
   "execution_count": 19,
   "id": "7f553178",
   "metadata": {},
   "outputs": [
    {
     "data": {
      "text/plain": [
       "[-8, -4, 0, 4, 8]"
      ]
     },
     "execution_count": 19,
     "metadata": {},
     "output_type": "execute_result"
    }
   ],
   "source": [
    "# create a new list with the values doubled\n",
    "\n",
    "vec = [-4, -2, 0, 2, 4]\n",
    "[x*2 for x in vec]"
   ]
  },
  {
   "cell_type": "code",
   "execution_count": 22,
   "id": "23b352f3",
   "metadata": {},
   "outputs": [
    {
     "data": {
      "text/plain": [
       "[0, 2, 4]"
      ]
     },
     "execution_count": 22,
     "metadata": {},
     "output_type": "execute_result"
    }
   ],
   "source": [
    "# filter the list to exclude negative numbers\n",
    "\n",
    "[x for x in vec if x >= 0]"
   ]
  },
  {
   "cell_type": "code",
   "execution_count": null,
   "id": "8b2030f1",
   "metadata": {},
   "outputs": [],
   "source": []
  },
  {
   "cell_type": "code",
   "execution_count": null,
   "id": "0c1716ab",
   "metadata": {},
   "outputs": [],
   "source": []
  },
  {
   "cell_type": "code",
   "execution_count": null,
   "id": "5f5afe53",
   "metadata": {},
   "outputs": [],
   "source": []
  },
  {
   "cell_type": "code",
   "execution_count": null,
   "id": "718a35ce",
   "metadata": {},
   "outputs": [],
   "source": []
  },
  {
   "cell_type": "code",
   "execution_count": null,
   "id": "d149fd26",
   "metadata": {},
   "outputs": [],
   "source": []
  }
 ],
 "metadata": {
  "kernelspec": {
   "display_name": "Python 3 (ipykernel)",
   "language": "python",
   "name": "python3"
  },
  "language_info": {
   "codemirror_mode": {
    "name": "ipython",
    "version": 3
   },
   "file_extension": ".py",
   "mimetype": "text/x-python",
   "name": "python",
   "nbconvert_exporter": "python",
   "pygments_lexer": "ipython3",
   "version": "3.9.7"
  }
 },
 "nbformat": 4,
 "nbformat_minor": 5
}
