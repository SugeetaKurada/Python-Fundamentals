{
 "cells": [
  {
   "cell_type": "markdown",
   "id": "f9058828",
   "metadata": {},
   "source": [
    "Python Functions is a block of related statements designed to perform \n",
    "a computational, \n",
    "logical, or \n",
    "evaluative task. \n",
    "\n",
    "The idea is to put some commonly or repeatedly done tasks together and make a function so that instead of writing the same code again and again for different inputs, we can do the function calls to reuse code contained in it over and over again. \n",
    "\n",
    "Functions can be both \n",
    "built-in or \n",
    "user-defined. \n",
    "\n",
    "It helps the program to be concise, non-repetitive, and organized."
   ]
  },
  {
   "cell_type": "markdown",
   "id": "149d1cb9",
   "metadata": {},
   "source": [
    "## FUNCTIONS\n",
    "\n",
    "CREATING a Function using def key word and CALLING a function using its name"
   ]
  },
  {
   "cell_type": "code",
   "execution_count": null,
   "id": "91065a1f",
   "metadata": {},
   "outputs": [],
   "source": [
    "\n",
    "Creating a Function \n",
    "def function_name(parameters):\n",
    "    \"\"\"docstring\"\"\"\n",
    "    statement(s)\n",
    "    return expression\n",
    "\n",
    "Calling a Function\n",
    "function_name()"
   ]
  },
  {
   "cell_type": "code",
   "execution_count": 4,
   "id": "73f76c80",
   "metadata": {},
   "outputs": [],
   "source": [
    "def Sugeeta():\n",
    "  print(\"Sugeeta is passionate about AI and ML\")"
   ]
  },
  {
   "cell_type": "code",
   "execution_count": 5,
   "id": "79b18146",
   "metadata": {},
   "outputs": [
    {
     "name": "stdout",
     "output_type": "stream",
     "text": [
      "Sugeeta is passionate about AI and ML\n"
     ]
    }
   ],
   "source": [
    "Sugeeta()"
   ]
  },
  {
   "cell_type": "markdown",
   "id": "8af2c6b7",
   "metadata": {},
   "source": [
    "## ARGUEMENTS\n",
    "\n",
    "Arguments are the values passed inside the parenthesis of the function. A function can have any number of arguments separated by a comma."
   ]
  },
  {
   "cell_type": "markdown",
   "id": "e2b1cae3",
   "metadata": {},
   "source": [
    "# 1. Python Functions without arguements\n",
    "\n",
    "Here we do not have to provide any input values while calling the function in the (). "
   ]
  },
  {
   "cell_type": "markdown",
   "id": "95217317",
   "metadata": {},
   "source": [
    "# a) Python Function with No argument and No Return value"
   ]
  },
  {
   "cell_type": "code",
   "execution_count": 21,
   "id": "6277e203",
   "metadata": {},
   "outputs": [],
   "source": [
    "def NonLeapYearCalendarDays():\n",
    "    Jan = 31\n",
    "    Feb = 28\n",
    "    Mar = 31\n",
    "    Apr = 30\n",
    "    May = 31\n",
    "    Jun = 30\n",
    "    Jul = 31\n",
    "    Aug = 31\n",
    "    Sep = 30\n",
    "    Oct = 31\n",
    "    Nov = 30\n",
    "    Dec = 31\n",
    "    \n",
    "    CalendarDays = Jan + Feb + Mar + Apr + May + Jun + Jul + Aug + Sep + Oct + Nov + Dec\n",
    "    \n",
    "    print( \"Non Leap Year Calendar Days : \", CalendarDays)\n",
    "    \n",
    "# Note - we have declared the variables \"Jan\" to \"Dec\" and assigned the values inside the function. \n",
    "# Hence, while calling the function in the nexts step we do not pass any arguements in the parenthesis \n",
    "c"
   ]
  },
  {
   "cell_type": "code",
   "execution_count": 22,
   "id": "ac590fa5",
   "metadata": {},
   "outputs": [
    {
     "name": "stdout",
     "output_type": "stream",
     "text": [
      "Non Leap Year Calendar Days :  365\n"
     ]
    }
   ],
   "source": [
    "NonLeapYearCalendarDays()"
   ]
  },
  {
   "cell_type": "code",
   "execution_count": 25,
   "id": "91a89d57",
   "metadata": {},
   "outputs": [],
   "source": [
    "def LeapYearCalendarDays():\n",
    "    Jan = 31\n",
    "    Feb = 29\n",
    "    Mar = 31\n",
    "    Apr = 30\n",
    "    May = 31\n",
    "    Jun = 30\n",
    "    Jul = 31\n",
    "    Aug = 31\n",
    "    Sep = 30\n",
    "    Oct = 31\n",
    "    Nov = 30\n",
    "    Dec = 31\n",
    "    \n",
    "    CalendarDays = Jan + Feb + Mar + Apr + May + Jun + Jul + Aug + Sep + Oct + Nov + Dec\n",
    "    \n",
    "    print( \"Leap Year Calendar Days : \", CalendarDays)\n",
    "    \n",
    "# Note - we have declared the variables \"Jan\" to \"Dec\" and assigned the values inside the function. \n",
    "# Hence, while calling the function in the nexts step we do not pass any arguements in the parenthesis \n",
    "# Note: Here No return inside the function hence the PRINT function is utilized inside the function to obtain the output"
   ]
  },
  {
   "cell_type": "code",
   "execution_count": 26,
   "id": "f5f1a0f3",
   "metadata": {},
   "outputs": [
    {
     "name": "stdout",
     "output_type": "stream",
     "text": [
      "Leap Year Calendar Days :  366\n"
     ]
    }
   ],
   "source": [
    "LeapYearCalendarDays()"
   ]
  },
  {
   "cell_type": "code",
   "execution_count": 1,
   "id": "74a9ed98",
   "metadata": {},
   "outputs": [],
   "source": [
    "def factorial_number():\n",
    "     factorial = 1\n",
    "     fact_number = int(input(\"Enter a Number to Get its Factorial: \"))\n",
    "     for i in range(1, fact_number + 1):\n",
    "        factorial = factorial * i\n",
    "     print(\"The factorial is\" , factorial)\n",
    "    \n",
    "# Hence, while calling the function in the nexts step we do not pass any arguements in the parenthesis \n",
    "# Note: Here No return inside the function hence the PRINT function is utilized inside the function to obtain the output"
   ]
  },
  {
   "cell_type": "code",
   "execution_count": 2,
   "id": "eb010aad",
   "metadata": {},
   "outputs": [
    {
     "name": "stdout",
     "output_type": "stream",
     "text": [
      "Enter a Number to Get its Factorial: 5\n",
      "The factorial is 120\n"
     ]
    }
   ],
   "source": [
    "factorial_number()"
   ]
  },
  {
   "cell_type": "markdown",
   "id": "0445f89e",
   "metadata": {},
   "source": [
    "# b) Python Function with No argument and with a Return value"
   ]
  },
  {
   "cell_type": "code",
   "execution_count": 5,
   "id": "67ae221a",
   "metadata": {},
   "outputs": [],
   "source": [
    "def Pi():\n",
    "    Pi = 3.14\n",
    "    return Pi"
   ]
  },
  {
   "cell_type": "code",
   "execution_count": 6,
   "id": "7bc2bc9d",
   "metadata": {},
   "outputs": [
    {
     "data": {
      "text/plain": [
       "3.14"
      ]
     },
     "execution_count": 6,
     "metadata": {},
     "output_type": "execute_result"
    }
   ],
   "source": [
    "Pi()"
   ]
  },
  {
   "cell_type": "code",
   "execution_count": 7,
   "id": "8581b1bf",
   "metadata": {},
   "outputs": [],
   "source": [
    "def e():\n",
    "    e = 2.71\n",
    "    return e"
   ]
  },
  {
   "cell_type": "code",
   "execution_count": 8,
   "id": "a5b45d4a",
   "metadata": {},
   "outputs": [
    {
     "data": {
      "text/plain": [
       "2.71"
      ]
     },
     "execution_count": 8,
     "metadata": {},
     "output_type": "execute_result"
    }
   ],
   "source": [
    "e()"
   ]
  },
  {
   "cell_type": "code",
   "execution_count": 6,
   "id": "715dbbdb",
   "metadata": {},
   "outputs": [
    {
     "name": "stdout",
     "output_type": "stream",
     "text": [
      "Sum of the items in the list is 350\n"
     ]
    }
   ],
   "source": [
    "List = [50,60,70,80,90]\n",
    "\n",
    "# Function definition \n",
    "def add_list():\n",
    "    sum = 0\n",
    "    for list_item in List:\n",
    "         sum = sum + list_item\n",
    "    return sum\n",
    "\n",
    "\n",
    "# Function call \n",
    "result = add_list()\n",
    "print(\"Sum of the items in the list is\", result)"
   ]
  },
  {
   "cell_type": "markdown",
   "id": "ee646b71",
   "metadata": {},
   "source": [
    "# 2.Python Function with arguments\n",
    "\n",
    "Here we have to provide the input value while calling the function in the (). The functon takes the input from the () runs the calculations and provides the output. Calculations are done behind the scene"
   ]
  },
  {
   "cell_type": "markdown",
   "id": "6a9ffc0d",
   "metadata": {},
   "source": [
    "# a) Python Function with argument and No Return value"
   ]
  },
  {
   "cell_type": "code",
   "execution_count": 6,
   "id": "1a825544",
   "metadata": {},
   "outputs": [],
   "source": [
    "def LeapYear(x):\n",
    "    if (x % 4 == 0):\n",
    "        print(\"LeapYear\")\n",
    "    else:\n",
    "        print(\"Not a Leap Year\")"
   ]
  },
  {
   "cell_type": "code",
   "execution_count": 7,
   "id": "7d6b2583",
   "metadata": {},
   "outputs": [
    {
     "name": "stdout",
     "output_type": "stream",
     "text": [
      "LeapYear\n"
     ]
    }
   ],
   "source": [
    "LeapYear(2020)"
   ]
  },
  {
   "cell_type": "code",
   "execution_count": 8,
   "id": "30b6f685",
   "metadata": {},
   "outputs": [
    {
     "name": "stdout",
     "output_type": "stream",
     "text": [
      "Not a Leap Year\n"
     ]
    }
   ],
   "source": [
    "LeapYear(2025)"
   ]
  },
  {
   "cell_type": "code",
   "execution_count": 11,
   "id": "62fdeab5",
   "metadata": {},
   "outputs": [
    {
     "name": "stdout",
     "output_type": "stream",
     "text": [
      "LeapYear\n"
     ]
    }
   ],
   "source": [
    "LeapYear(2000)"
   ]
  },
  {
   "attachments": {
    "python-list-index.png": {
     "image/png": "[encoded data removed]"
    }
   },
   "cell_type": "markdown",
   "id": "e12c4efd",
   "metadata": {},
   "source": [
    "![python-list-index.png](attachment:python-list-index.png)"
   ]
  },
  {
   "cell_type": "code",
   "execution_count": 8,
   "id": "4758ab0a",
   "metadata": {},
   "outputs": [
    {
     "name": "stdout",
     "output_type": "stream",
     "text": [
      "! A T E E G U S "
     ]
    }
   ],
   "source": [
    "## Program to reverse a string\n",
    "my_string = \"SUGEETA!\"\n",
    "\n",
    "\n",
    "# range(start, stop, step)\n",
    "\n",
    "# Function Definition\n",
    "def reverse_string(s):\n",
    "     for i in range(len(s)-1, -1, -1):\n",
    "             print(s[i], end= \" \")\n",
    "\n",
    "# Function Call\n",
    "reverse_string(my_string)"
   ]
  },
  {
   "cell_type": "markdown",
   "id": "b387fa8e",
   "metadata": {},
   "source": [
    "# b) Python Function with argument and Return value"
   ]
  },
  {
   "cell_type": "code",
   "execution_count": 4,
   "id": "1343fe80",
   "metadata": {},
   "outputs": [],
   "source": [
    "# Program to add two matrix and return the final matrix\n",
    "# print the output \n",
    "\n",
    "matrixOne = [[2,3],[1,1]]\n",
    "matrixTwo = [[4,5],[7,2]]\n",
    "\n",
    "\n",
    "def add_m():\n",
    "    m3 = [[0,0],[0,0]]\n",
    "    for i in range(2):\n",
    "       for j in range(2):\n",
    "          m3[i][j] = matrixOne[i][j] + matrixTwo[i][j]\n",
    "    return m3"
   ]
  },
  {
   "cell_type": "code",
   "execution_count": 7,
   "id": "ff61329d",
   "metadata": {},
   "outputs": [
    {
     "data": {
      "text/plain": [
       "[[6, 8], [8, 3]]"
      ]
     },
     "execution_count": 7,
     "metadata": {},
     "output_type": "execute_result"
    }
   ],
   "source": [
    "add_m()"
   ]
  },
  {
   "cell_type": "code",
   "execution_count": null,
   "id": "ea28fcfd",
   "metadata": {},
   "outputs": [],
   "source": []
  }
 ],
 "metadata": {
  "kernelspec": {
   "display_name": "Python 3 (ipykernel)",
   "language": "python",
   "name": "python3"
  },
  "language_info": {
   "codemirror_mode": {
    "name": "ipython",
    "version": 3
   },
   "file_extension": ".py",
   "mimetype": "text/x-python",
   "name": "python",
   "nbconvert_exporter": "python",
   "pygments_lexer": "ipython3",
   "version": "3.9.7"
  }
 },
 "nbformat": 4,
 "nbformat_minor": 5
}
