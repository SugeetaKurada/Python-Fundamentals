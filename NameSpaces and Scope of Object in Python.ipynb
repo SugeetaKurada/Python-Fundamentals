{
 "cells": [
  {
   "cell_type": "code",
   "execution_count": 27,
   "id": "f38bb2f6",
   "metadata": {},
   "outputs": [
    {
     "name": "stdout",
     "output_type": "stream",
     "text": [
      "FedFundsRate is: 0.55\n",
      "InterBankRate is: 1.55\n",
      "MortgageRate is: 2.55\n"
     ]
    }
   ],
   "source": [
    "# Variable in the global namespace\n",
    "FedFundsRate = 0.55 \n",
    "print(\"FedFundsRate is:\",  FedFundsRate)\n",
    "\n",
    "\n",
    "def InterBankRate():\n",
    "    # Variable is in the local namespace\n",
    "    InterBankRate = FedFundsRate + 1  # The global variable is being referred \n",
    "    print(\"InterBankRate is:\", InterBankRate) \n",
    "    \n",
    "    def MortgageRate():\n",
    "        # Variable in the nested local namespace\n",
    "        MortgageRate = InterBankRate + 1\n",
    "        print(\"MortgageRate is:\", MortgageRate)\n",
    "    MortgageRate() #call the nested namespace soon after you finish writing the function\n",
    "           \n",
    "        \n",
    "        \n",
    "\n",
    "        \n",
    "InterBankRate() #call the local namespace anytime\n",
    "\n",
    "\n",
    "        "
   ]
  },
  {
   "cell_type": "code",
   "execution_count": 28,
   "id": "c5850113",
   "metadata": {},
   "outputs": [],
   "source": [
    "import os"
   ]
  },
  {
   "cell_type": "code",
   "execution_count": 30,
   "id": "0c66ba86",
   "metadata": {},
   "outputs": [
    {
     "data": {
      "text/plain": [
       "'C:\\\\Users\\\\skcks'"
      ]
     },
     "execution_count": 30,
     "metadata": {},
     "output_type": "execute_result"
    }
   ],
   "source": [
    "os.getcwd()"
   ]
  },
  {
   "cell_type": "code",
   "execution_count": null,
   "id": "3f4cf67e",
   "metadata": {},
   "outputs": [],
   "source": []
  }
 ],
 "metadata": {
  "kernelspec": {
   "display_name": "Python 3 (ipykernel)",
   "language": "python",
   "name": "python3"
  },
  "language_info": {
   "codemirror_mode": {
    "name": "ipython",
    "version": 3
   },
   "file_extension": ".py",
   "mimetype": "text/x-python",
   "name": "python",
   "nbconvert_exporter": "python",
   "pygments_lexer": "ipython3",
   "version": "3.9.7"
  }
 },
 "nbformat": 4,
 "nbformat_minor": 5
}
