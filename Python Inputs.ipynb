{
 "cells": [
  {
   "cell_type": "markdown",
   "id": "463eab90",
   "metadata": {},
   "source": [
    "INPUT PROMPT"
   ]
  },
  {
   "cell_type": "code",
   "execution_count": 1,
   "id": "7c3b39a0",
   "metadata": {},
   "outputs": [
    {
     "name": "stdout",
     "output_type": "stream",
     "text": [
      "Enter your value: 123\n",
      "123\n"
     ]
    }
   ],
   "source": [
    "val = input(\"Enter your value: \")\n",
    "print(val)"
   ]
  },
  {
   "cell_type": "code",
   "execution_count": 4,
   "id": "0539f47f",
   "metadata": {},
   "outputs": [
    {
     "name": "stdout",
     "output_type": "stream",
     "text": [
      "My Age is \n",
      "60\n",
      "My Age is  60.0\n"
     ]
    }
   ],
   "source": [
    "string = str(input())\n",
    "num1 = float(input())\n",
    "\n",
    "print(string, num1)"
   ]
  },
  {
   "cell_type": "markdown",
   "id": "9f497897",
   "metadata": {},
   "source": [
    "INPUT FROM CONSOLE"
   ]
  }
 ],
 "metadata": {
  "kernelspec": {
   "display_name": "Python 3 (ipykernel)",
   "language": "python",
   "name": "python3"
  },
  "language_info": {
   "codemirror_mode": {
    "name": "ipython",
    "version": 3
   },
   "file_extension": ".py",
   "mimetype": "text/x-python",
   "name": "python",
   "nbconvert_exporter": "python",
   "pygments_lexer": "ipython3",
   "version": "3.9.7"
  }
 },
 "nbformat": 4,
 "nbformat_minor": 5
}
