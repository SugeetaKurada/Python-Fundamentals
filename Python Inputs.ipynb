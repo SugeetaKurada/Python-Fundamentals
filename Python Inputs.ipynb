{
 "cells": [
  {
   "cell_type": "markdown",
   "id": "463eab90",
   "metadata": {},
   "source": [
    "INPUT PROMPT"
   ]
  },
  {
   "cell_type": "code",
   "execution_count": 55,
   "id": "7c3b39a0",
   "metadata": {},
   "outputs": [
    {
     "name": "stdout",
     "output_type": "stream",
     "text": [
      "Enter your value: 12\n",
      "12\n"
     ]
    }
   ],
   "source": [
    "val = input(\"Enter your value: \")\n",
    "print(val)"
   ]
  },
  {
   "cell_type": "code",
   "execution_count": 4,
   "id": "0539f47f",
   "metadata": {},
   "outputs": [
    {
     "name": "stdout",
     "output_type": "stream",
     "text": [
      "My Age is \n",
      "60\n",
      "My Age is  60.0\n"
     ]
    }
   ],
   "source": [
    "string = str(input())\n",
    "num1 = float(input())\n",
    "\n",
    "print(string, num1)"
   ]
  },
  {
   "cell_type": "markdown",
   "id": "b64140ed",
   "metadata": {},
   "source": [
    "TAKING MULTIPLE INPUTS"
   ]
  },
  {
   "cell_type": "code",
   "execution_count": 42,
   "id": "72e8c270",
   "metadata": {},
   "outputs": [
    {
     "name": "stdout",
     "output_type": "stream",
     "text": [
      "Enter two values with space as delimitter: 1 2\n",
      "Number of boys:  1\n",
      "Number of girls:  2\n",
      "But here - The sum x and y will not get the actual result: 12\n"
     ]
    }
   ],
   "source": [
    "# Taking two inputs at a time\n",
    "\n",
    "x, y = input(\"Enter two values with space as delimitter: \").split()\n",
    "\n",
    "print(\"Number of boys: \", x)\n",
    "print(\"Number of girls: \", y) \n",
    "\n",
    "print(\"But here - The sum x and y will not get the actual result:\", x+y)"
   ]
  },
  {
   "cell_type": "code",
   "execution_count": 43,
   "id": "c1056cdb",
   "metadata": {},
   "outputs": [
    {
     "name": "stdout",
     "output_type": "stream",
     "text": [
      "1 \n",
      "2\n",
      "First Number:  1 \n",
      "Second Number:  2\n",
      "Sum Total of x and y:  1 2\n"
     ]
    }
   ],
   "source": [
    "x, y = input(),  input() # we put (,) hence the delimitter is enter not space unlike above\n",
    "\n",
    "a = x+y\n",
    "\n",
    "print(\"First Number: \" , x)\n",
    "print(\"Second Number: \", y)\n",
    "print(\"Sum Total of x and y: \", a)"
   ]
  },
  {
   "cell_type": "code",
   "execution_count": 45,
   "id": "e66aff41",
   "metadata": {},
   "outputs": [
    {
     "name": "stdout",
     "output_type": "stream",
     "text": [
      "1 2\n",
      "First Number:  1\n",
      "Second Number:  2\n",
      "Sum Total of x and y:  3\n"
     ]
    }
   ],
   "source": [
    "# Reads two numbers from input and typecasts them to int using map function\n",
    "\n",
    "\n",
    "x, y = map(int, input().split()) # Here the delimitter is space\n",
    "\n",
    "a = x+y\n",
    "\n",
    "print(\"First Number: \" , x)\n",
    "print(\"Second Number: \", y)\n",
    "print(\"Sum Total of x and y: \", a)"
   ]
  },
  {
   "cell_type": "code",
   "execution_count": 50,
   "id": "c673a4a2",
   "metadata": {},
   "outputs": [
    {
     "name": "stdout",
     "output_type": "stream",
     "text": [
      "1 2\n",
      "First Number:  1\n",
      "Second Number:  2\n",
      "Sum Total of x and y:  3\n"
     ]
    }
   ],
   "source": [
    "# Reads two numbers from input and typecasts them to int using list comprehension\n",
    "x, y = [int(x) for x in input().split()]  # Here the delimitter is space\n",
    "\n",
    "a = x+y\n",
    "\n",
    "print(\"First Number: \" , x)\n",
    "print(\"Second Number: \", y)\n",
    "print(\"Sum Total of x and y: \", a)"
   ]
  },
  {
   "cell_type": "code",
   "execution_count": 54,
   "id": "7913f6d7",
   "metadata": {},
   "outputs": [
    {
     "name": "stdout",
     "output_type": "stream",
     "text": [
      "1\n",
      "2\n",
      "3\n"
     ]
    }
   ],
   "source": [
    "x, y = [int(input()), int(input())] # we put (,) hence the delimitter is enter not space unlike above\n",
    "a= x+y\n",
    "print(a)"
   ]
  },
  {
   "cell_type": "code",
   "execution_count": null,
   "id": "0ab28a42",
   "metadata": {},
   "outputs": [],
   "source": []
  }
 ],
 "metadata": {
  "kernelspec": {
   "display_name": "Python 3 (ipykernel)",
   "language": "python",
   "name": "python3"
  },
  "language_info": {
   "codemirror_mode": {
    "name": "ipython",
    "version": 3
   },
   "file_extension": ".py",
   "mimetype": "text/x-python",
   "name": "python",
   "nbconvert_exporter": "python",
   "pygments_lexer": "ipython3",
   "version": "3.9.7"
  }
 },
 "nbformat": 4,
 "nbformat_minor": 5
}
